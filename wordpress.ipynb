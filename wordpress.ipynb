{
 "metadata": {
  "name": "wordpress"
 },
 "nbformat": 3,
 "nbformat_minor": 0,
 "worksheets": [
  {
   "cells": [
    {
     "cell_type": "code",
     "collapsed": false,
     "input": [
      "from wordpress_xmlrpc import Client, WordPressPost\n",
      "from wordpress_xmlrpc.methods.posts import GetPosts, NewPost\n",
      "\n",
      "wp = Client('http://blog.brobeur.com/xmlrpc.php', 'jess', 'qwerty123')\n",
      "wp.call(GetPosts())\n",
      "\n",
      "\n",
      "post = WordPressPost()\n",
      "post.title = 'My new title'\n",
      "post.content = 'This is the body of my new post.'\n",
      "wp.call(NewPost(post))"
     ],
     "language": "python",
     "metadata": {},
     "outputs": [
      {
       "output_type": "pyout",
       "prompt_number": 4,
       "text": [
        "'105'"
       ]
      }
     ],
     "prompt_number": 4
    },
    {
     "cell_type": "code",
     "collapsed": false,
     "input": [],
     "language": "python",
     "metadata": {},
     "outputs": []
    }
   ],
   "metadata": {}
  }
 ]
}