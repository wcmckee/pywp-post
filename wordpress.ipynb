{
 "metadata": {
  "name": "wordpress"
 },
 "nbformat": 3,
 "nbformat_minor": 0,
 "worksheets": [
  {
   "cells": [
    {
     "cell_type": "code",
     "collapsed": false,
     "input": [
      "from wordpress_xmlrpc import Client, WordPressPost\n",
      "from wordpress_xmlrpc.methods.posts import GetPosts, NewPost\n",
      "\n",
      "wp = Client('http://blog.brobeur.com/xmlrpc.php', 'jess', 'qwerty123')\n",
      "wp.call(GetPosts())\n",
      "\n",
      "\n",
      "post = WordPressPost()\n",
      "post.title = ('My new title')\n",
      "post.content = ('This is the body of my new post.')\n",
      "post.post_status = ('publish')\n",
      "wp.call(NewPost(post))\n",
      "\n",
      "\n"
     ],
     "language": "python",
     "metadata": {},
     "outputs": [
      {
       "output_type": "pyout",
       "prompt_number": 11,
       "text": [
        "'112'"
       ]
      }
     ],
     "prompt_number": 11
    },
    {
     "cell_type": "code",
     "collapsed": false,
     "input": [],
     "language": "python",
     "metadata": {},
     "outputs": []
    }
   ],
   "metadata": {}
  }
 ]
}